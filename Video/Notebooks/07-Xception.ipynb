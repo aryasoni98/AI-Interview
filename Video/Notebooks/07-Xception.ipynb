{
 "cells": [
  {
   "cell_type": "markdown",
   "metadata": {
    "ExecuteTime": {
     "end_time": "2019-02-12T22:17:19.603440Z",
     "start_time": "2019-02-12T22:17:19.523397Z"
    }
   },
   "source": [
    "<h1><center> Facial Emotion Recognition - XCeption Model</center></h1>\n",
    "<center> A project for the French Employment Agency </center>\n",
    "<center> Telecom ParisTech 2018-2019 </center>"
   ]
  },
  {
   "cell_type": "markdown",
   "metadata": {},
   "source": [
    "# I. Context"
   ]
  },
  {
   "cell_type": "markdown",
   "metadata": {},
   "source": [
    "The aim of this notebook is to explore facial emotion recognition techniques from a live webcam video stream. \n",
    "\n",
    "The data set used for training is the Kaggle FER2013 emotion recognition data set : https://www.kaggle.com/c/challenges-in-representation-learning-facial-expression-recognition-challenge/data\n",
    "\n",
    "The models explored include :\n",
    "- Manual filters \n",
    "- Deep Learning Architectures\n",
    "- DenseNet Inspired Architectures\n",
    "\n",
    "This model will be combined with voice emotion recongition as well as psychological traits extracted from text inputs, and should provide a benchmark and a deep analysis of both verbal and non-verbal insights for candidates seeking for a job and their performance during an interview."
   ]
  },
  {
   "cell_type": "markdown",
   "metadata": {},
   "source": [
    "# II. General imports"
   ]
  },
  {
   "cell_type": "markdown",
   "metadata": {},
   "source": [
    "Versions used :"
   ]
  },
  {
   "cell_type": "raw",
   "metadata": {},
   "source": [
    "Python : 3.6.5\n",
    "Tensorflow : 1.10.1\n",
    "Keras : 2.2.2\n",
    "Numpy : 1.15.4\n",
    "OpenCV : 4.0.0"
   ]
  },
  {
   "cell_type": "code",
   "execution_count": 5,
   "metadata": {
    "ExecuteTime": {
     "end_time": "2019-03-06T11:25:47.663534Z",
     "start_time": "2019-03-06T11:25:39.920833Z"
    }
   },
   "outputs": [],
   "source": [
    "### General imports ###\n",
    "import numpy as np\n",
    "import pandas as pd\n",
    "import matplotlib.pyplot as plt\n",
    "from time import time\n",
    "from time import sleep\n",
    "import re\n",
    "import os\n",
    "import argparse\n",
    "from collections import OrderedDict\n",
    "import matplotlib.animation as animation\n",
    "\n",
    "### Image processing ###\n",
    "from scipy.ndimage import zoom\n",
    "from scipy.spatial import distance\n",
    "import imutils\n",
    "from scipy import ndimage\n",
    "import cv2\n",
    "import dlib\n",
    "from __future__ import division\n",
    "from imutils import face_utils\n",
    "\n",
    "### CNN models ###\n",
    "import keras\n",
    "from keras.preprocessing.image import ImageDataGenerator, array_to_img, img_to_array, load_img\n",
    "from keras.callbacks import TensorBoard\n",
    "from keras.models import Sequential\n",
    "from keras.layers.core import Dense, Dropout, Activation, Flatten\n",
    "from keras.layers.convolutional import Conv2D, MaxPooling2D, SeparableConv2D\n",
    "from keras.utils import np_utils\n",
    "from keras.regularizers import l2#, activity_l2\n",
    "from tensorflow.keras.optimizers import SGD, RMSprop\n",
    "from tensorflow.keras.utils import to_categorical\n",
    "from tensorflow.keras.layers import BatchNormalization\n",
    "from keras import models\n",
    "from keras.utils.vis_utils import plot_model\n",
    "from keras.layers import Input, GlobalAveragePooling2D\n",
    "from keras.models import Model\n",
    "from tensorflow.keras import layers\n",
    "\n",
    "### Build SVM models ###\n",
    "from sklearn.preprocessing import OneHotEncoder\n",
    "from sklearn.model_selection import train_test_split\n",
    "from sklearn.metrics import accuracy_score\n",
    "from sklearn import svm\n",
    "\n",
    "### Same trained models ###\n",
    "import h5py\n",
    "from keras.models import model_from_json\n",
    "import pickle"
   ]
  },
  {
   "cell_type": "markdown",
   "metadata": {},
   "source": [
    "# III. Import datas"
   ]
  },
  {
   "cell_type": "code",
   "execution_count": 12,
   "metadata": {
    "ExecuteTime": {
     "end_time": "2019-03-06T11:25:47.758974Z",
     "start_time": "2019-03-06T11:25:47.753195Z"
    }
   },
   "outputs": [],
   "source": [
    "path = '/Users/aryasoni/Documents/GitHub/AI-Interview/Video/'\n",
    "local_path = '/Users/aryasoni/Documents/GitHub/AI-Interview/Video/'"
   ]
  },
  {
   "cell_type": "code",
   "execution_count": 13,
   "metadata": {
    "ExecuteTime": {
     "end_time": "2019-03-06T11:25:48.241125Z",
     "start_time": "2019-03-06T11:25:47.768227Z"
    }
   },
   "outputs": [
    {
     "ename": "FileNotFoundError",
     "evalue": "[Errno 2] No such file or directory: '/Users/aryasoni/Documents/GitHub/AI-Interview/Video/X_train.npy'",
     "output_type": "error",
     "traceback": [
      "\u001b[0;31m---------------------------------------------------------------------------\u001b[0m",
      "\u001b[0;31mFileNotFoundError\u001b[0m                         Traceback (most recent call last)",
      "\u001b[0;32m/var/folders/w8/b74q9mq56z58hyrj0xfxsxz80000gn/T/ipykernel_2185/2231338217.py\u001b[0m in \u001b[0;36m<module>\u001b[0;34m\u001b[0m\n\u001b[0;32m----> 1\u001b[0;31m \u001b[0mX_train\u001b[0m \u001b[0;34m=\u001b[0m \u001b[0mnp\u001b[0m\u001b[0;34m.\u001b[0m\u001b[0mload\u001b[0m\u001b[0;34m(\u001b[0m\u001b[0mlocal_path\u001b[0m \u001b[0;34m+\u001b[0m \u001b[0;34m\"X_train.npy\"\u001b[0m\u001b[0;34m)\u001b[0m\u001b[0;34m\u001b[0m\u001b[0;34m\u001b[0m\u001b[0m\n\u001b[0m\u001b[1;32m      2\u001b[0m \u001b[0mX_test\u001b[0m \u001b[0;34m=\u001b[0m \u001b[0mnp\u001b[0m\u001b[0;34m.\u001b[0m\u001b[0mload\u001b[0m\u001b[0;34m(\u001b[0m\u001b[0mlocal_path\u001b[0m \u001b[0;34m+\u001b[0m \u001b[0;34m\"X_test.npy\"\u001b[0m\u001b[0;34m)\u001b[0m\u001b[0;34m\u001b[0m\u001b[0;34m\u001b[0m\u001b[0m\n\u001b[1;32m      3\u001b[0m \u001b[0my_train\u001b[0m \u001b[0;34m=\u001b[0m \u001b[0mnp\u001b[0m\u001b[0;34m.\u001b[0m\u001b[0mload\u001b[0m\u001b[0;34m(\u001b[0m\u001b[0mlocal_path\u001b[0m \u001b[0;34m+\u001b[0m \u001b[0;34m\"y_train.npy\"\u001b[0m\u001b[0;34m)\u001b[0m\u001b[0;34m\u001b[0m\u001b[0;34m\u001b[0m\u001b[0m\n\u001b[1;32m      4\u001b[0m \u001b[0my_test\u001b[0m \u001b[0;34m=\u001b[0m \u001b[0mnp\u001b[0m\u001b[0;34m.\u001b[0m\u001b[0mload\u001b[0m\u001b[0;34m(\u001b[0m\u001b[0mlocal_path\u001b[0m \u001b[0;34m+\u001b[0m \u001b[0;34m\"y_test.npy\"\u001b[0m\u001b[0;34m)\u001b[0m\u001b[0;34m\u001b[0m\u001b[0;34m\u001b[0m\u001b[0m\n",
      "\u001b[0;32m/opt/anaconda3/lib/python3.9/site-packages/numpy/lib/npyio.py\u001b[0m in \u001b[0;36mload\u001b[0;34m(file, mmap_mode, allow_pickle, fix_imports, encoding)\u001b[0m\n\u001b[1;32m    415\u001b[0m             \u001b[0mown_fid\u001b[0m \u001b[0;34m=\u001b[0m \u001b[0;32mFalse\u001b[0m\u001b[0;34m\u001b[0m\u001b[0;34m\u001b[0m\u001b[0m\n\u001b[1;32m    416\u001b[0m         \u001b[0;32melse\u001b[0m\u001b[0;34m:\u001b[0m\u001b[0;34m\u001b[0m\u001b[0;34m\u001b[0m\u001b[0m\n\u001b[0;32m--> 417\u001b[0;31m             \u001b[0mfid\u001b[0m \u001b[0;34m=\u001b[0m \u001b[0mstack\u001b[0m\u001b[0;34m.\u001b[0m\u001b[0menter_context\u001b[0m\u001b[0;34m(\u001b[0m\u001b[0mopen\u001b[0m\u001b[0;34m(\u001b[0m\u001b[0mos_fspath\u001b[0m\u001b[0;34m(\u001b[0m\u001b[0mfile\u001b[0m\u001b[0;34m)\u001b[0m\u001b[0;34m,\u001b[0m \u001b[0;34m\"rb\"\u001b[0m\u001b[0;34m)\u001b[0m\u001b[0;34m)\u001b[0m\u001b[0;34m\u001b[0m\u001b[0;34m\u001b[0m\u001b[0m\n\u001b[0m\u001b[1;32m    418\u001b[0m             \u001b[0mown_fid\u001b[0m \u001b[0;34m=\u001b[0m \u001b[0;32mTrue\u001b[0m\u001b[0;34m\u001b[0m\u001b[0;34m\u001b[0m\u001b[0m\n\u001b[1;32m    419\u001b[0m \u001b[0;34m\u001b[0m\u001b[0m\n",
      "\u001b[0;31mFileNotFoundError\u001b[0m: [Errno 2] No such file or directory: '/Users/aryasoni/Documents/GitHub/AI-Interview/Video/X_train.npy'"
     ]
    }
   ],
   "source": [
    "X_train = np.load(local_path + \"X_train.npy\")\n",
    "X_test = np.load(local_path + \"X_test.npy\")\n",
    "y_train = np.load(local_path + \"y_train.npy\")\n",
    "y_test = np.load(local_path + \"y_test.npy\")"
   ]
  },
  {
   "cell_type": "code",
   "execution_count": 14,
   "metadata": {
    "ExecuteTime": {
     "end_time": "2019-03-06T11:25:48.294427Z",
     "start_time": "2019-03-06T11:25:48.249075Z"
    }
   },
   "outputs": [
    {
     "ename": "NameError",
     "evalue": "name 'X_train' is not defined",
     "output_type": "error",
     "traceback": [
      "\u001b[0;31m---------------------------------------------------------------------------\u001b[0m",
      "\u001b[0;31mNameError\u001b[0m                                 Traceback (most recent call last)",
      "\u001b[0;32m/var/folders/w8/b74q9mq56z58hyrj0xfxsxz80000gn/T/ipykernel_2185/955228734.py\u001b[0m in \u001b[0;36m<module>\u001b[0;34m\u001b[0m\n\u001b[1;32m      1\u001b[0m \u001b[0mshape_x\u001b[0m \u001b[0;34m=\u001b[0m \u001b[0;36m48\u001b[0m\u001b[0;34m\u001b[0m\u001b[0;34m\u001b[0m\u001b[0m\n\u001b[1;32m      2\u001b[0m \u001b[0mshape_y\u001b[0m \u001b[0;34m=\u001b[0m \u001b[0;36m48\u001b[0m\u001b[0;34m\u001b[0m\u001b[0;34m\u001b[0m\u001b[0m\n\u001b[0;32m----> 3\u001b[0;31m \u001b[0mnRows\u001b[0m\u001b[0;34m,\u001b[0m\u001b[0mnCols\u001b[0m\u001b[0;34m,\u001b[0m\u001b[0mnDims\u001b[0m \u001b[0;34m=\u001b[0m \u001b[0mX_train\u001b[0m\u001b[0;34m.\u001b[0m\u001b[0mshape\u001b[0m\u001b[0;34m[\u001b[0m\u001b[0;36m1\u001b[0m\u001b[0;34m:\u001b[0m\u001b[0;34m]\u001b[0m\u001b[0;34m\u001b[0m\u001b[0;34m\u001b[0m\u001b[0m\n\u001b[0m\u001b[1;32m      4\u001b[0m \u001b[0minput_shape\u001b[0m \u001b[0;34m=\u001b[0m \u001b[0;34m(\u001b[0m\u001b[0mnRows\u001b[0m\u001b[0;34m,\u001b[0m \u001b[0mnCols\u001b[0m\u001b[0;34m,\u001b[0m \u001b[0mnDims\u001b[0m\u001b[0;34m)\u001b[0m\u001b[0;34m\u001b[0m\u001b[0;34m\u001b[0m\u001b[0m\n\u001b[1;32m      5\u001b[0m \u001b[0mclasses\u001b[0m \u001b[0;34m=\u001b[0m \u001b[0mnp\u001b[0m\u001b[0;34m.\u001b[0m\u001b[0munique\u001b[0m\u001b[0;34m(\u001b[0m\u001b[0my_train\u001b[0m\u001b[0;34m)\u001b[0m\u001b[0;34m\u001b[0m\u001b[0;34m\u001b[0m\u001b[0m\n",
      "\u001b[0;31mNameError\u001b[0m: name 'X_train' is not defined"
     ]
    }
   ],
   "source": [
    "shape_x = 48\n",
    "shape_y = 48\n",
    "nRows,nCols,nDims = X_train.shape[1:]\n",
    "input_shape = (nRows, nCols, nDims)\n",
    "classes = np.unique(y_train)\n",
    "nClasses = len(classes)"
   ]
  },
  {
   "cell_type": "markdown",
   "metadata": {},
   "source": [
    "# IV. XCeption Model"
   ]
  },
  {
   "cell_type": "code",
   "execution_count": 5,
   "metadata": {
    "ExecuteTime": {
     "end_time": "2019-03-06T11:25:48.434272Z",
     "start_time": "2019-03-06T11:25:48.304002Z"
    }
   },
   "outputs": [],
   "source": [
    "def entry_flow(inputs) :\n",
    "    \n",
    "    x = Conv2D(32, 3, strides = 2, padding='same')(inputs)\n",
    "    x = BatchNormalization()(x)\n",
    "    x = Activation('relu')(x)\n",
    "    \n",
    "    x = Conv2D(64,3,padding='same')(x)\n",
    "    x = BatchNormalization()(x)\n",
    "    x = Activation('relu')(x)\n",
    "    \n",
    "    previous_block_activation = x\n",
    "    \n",
    "    for size in [128, 256, 728] :\n",
    "    \n",
    "        x = Activation('relu')(x)\n",
    "        x = SeparableConv2D(size, 3, padding='same')(x)\n",
    "        x = BatchNormalization()(x)\n",
    "    \n",
    "        x = Activation('relu')(x)\n",
    "        x = SeparableConv2D(size, 3, padding='same')(x)\n",
    "        x = BatchNormalization()(x)\n",
    "        \n",
    "        x = MaxPooling2D(3, strides=2, padding='same')(x)\n",
    "        \n",
    "        residual = Conv2D(size, 1, strides=2, padding='same')(previous_block_activation)\n",
    "        \n",
    "        x = keras.layers.Add()([x, residual])\n",
    "        previous_block_activation = x\n",
    "    \n",
    "    return x"
   ]
  },
  {
   "cell_type": "code",
   "execution_count": 6,
   "metadata": {
    "ExecuteTime": {
     "end_time": "2019-03-06T11:25:48.466862Z",
     "start_time": "2019-03-06T11:25:48.446212Z"
    }
   },
   "outputs": [],
   "source": [
    "def middle_flow(x, num_blocks=8) :\n",
    "    \n",
    "    previous_block_activation = x\n",
    "    \n",
    "    for _ in range(num_blocks) :\n",
    "    \n",
    "        x = Activation('relu')(x)\n",
    "        x = SeparableConv2D(728, 3, padding='same')(x)\n",
    "        x = BatchNormalization()(x)\n",
    "    \n",
    "        x = Activation('relu')(x)\n",
    "        x = SeparableConv2D(728, 3, padding='same')(x)\n",
    "        x = BatchNormalization()(x)\n",
    "        \n",
    "        x = Activation('relu')(x)\n",
    "        x = SeparableConv2D(728, 3, padding='same')(x)\n",
    "        x = BatchNormalization()(x)\n",
    "        \n",
    "        x = keras.layers.Add()([x, previous_block_activation])\n",
    "        previous_block_activation = x\n",
    "    \n",
    "    return x"
   ]
  },
  {
   "cell_type": "code",
   "execution_count": 7,
   "metadata": {
    "ExecuteTime": {
     "end_time": "2019-03-06T11:25:48.537449Z",
     "start_time": "2019-03-06T11:25:48.474977Z"
    }
   },
   "outputs": [],
   "source": [
    "def exit_flow(x, num_classes=7) :\n",
    "    \n",
    "    previous_block_activation = x\n",
    "    \n",
    "    x = Activation('relu')(x)\n",
    "    x = SeparableConv2D(728, 3, padding='same')(x)\n",
    "    x = BatchNormalization()(x)\n",
    "    \n",
    "    x = Activation('relu')(x)\n",
    "    x = SeparableConv2D(1024, 3, padding='same')(x)\n",
    "    x = BatchNormalization()(x)\n",
    "    \n",
    "    x = MaxPooling2D(3, strides=2, padding='same')(x)\n",
    "    \n",
    "    residual = Conv2D(1024, 1, strides=2, padding='same')(previous_block_activation)\n",
    "    x = keras.layers.Add()([x, residual])\n",
    "      \n",
    "    x = Activation('relu')(x)\n",
    "    x = SeparableConv2D(728, 3, padding='same')(x)\n",
    "    x = BatchNormalization()(x)\n",
    "    \n",
    "    x = Activation('relu')(x)\n",
    "    x = SeparableConv2D(1024, 3, padding='same')(x)\n",
    "    x = BatchNormalization()(x)\n",
    "    \n",
    "    x = GlobalAveragePooling2D()(x)\n",
    "    x = Dense(num_classes, activation='softmax')(x)\n",
    "    \n",
    "    return x"
   ]
  },
  {
   "cell_type": "code",
   "execution_count": 8,
   "metadata": {
    "ExecuteTime": {
     "end_time": "2019-03-06T11:25:59.112831Z",
     "start_time": "2019-03-06T11:25:48.549429Z"
    }
   },
   "outputs": [],
   "source": [
    "inputs = Input(shape=(shape_x, shape_y, 1))\n",
    "outputs = exit_flow(middle_flow(entry_flow(inputs)))"
   ]
  },
  {
   "cell_type": "code",
   "execution_count": 9,
   "metadata": {
    "ExecuteTime": {
     "end_time": "2019-03-06T11:25:59.150183Z",
     "start_time": "2019-03-06T11:25:59.123688Z"
    }
   },
   "outputs": [],
   "source": [
    "xception = Model(inputs, outputs)"
   ]
  },
  {
   "cell_type": "code",
   "execution_count": 10,
   "metadata": {
    "ExecuteTime": {
     "end_time": "2019-03-06T11:26:00.512315Z",
     "start_time": "2019-03-06T11:25:59.168477Z"
    }
   },
   "outputs": [],
   "source": [
    "plot_model(xception, to_file='model_images/model_plot_4.png', show_shapes=True, show_layer_names=True)"
   ]
  },
  {
   "cell_type": "markdown",
   "metadata": {},
   "source": [
    "<img src='model_images/model_plot_4.png'>"
   ]
  },
  {
   "cell_type": "code",
   "execution_count": 75,
   "metadata": {
    "ExecuteTime": {
     "end_time": "2019-03-05T13:33:55.727234Z",
     "start_time": "2019-03-05T13:33:55.696457Z"
    },
    "scrolled": true
   },
   "outputs": [
    {
     "name": "stdout",
     "output_type": "stream",
     "text": [
      "__________________________________________________________________________________________________\n",
      "Layer (type)                    Output Shape         Param #     Connected to                     \n",
      "==================================================================================================\n",
      "input_12 (InputLayer)           (None, 48, 48, 1)    0                                            \n",
      "__________________________________________________________________________________________________\n",
      "conv2d_28 (Conv2D)              (None, 24, 24, 32)   320         input_12[0][0]                   \n",
      "__________________________________________________________________________________________________\n",
      "batch_normalization_73 (BatchNo (None, 24, 24, 32)   128         conv2d_28[0][0]                  \n",
      "__________________________________________________________________________________________________\n",
      "activation_74 (Activation)      (None, 24, 24, 32)   0           batch_normalization_73[0][0]     \n",
      "__________________________________________________________________________________________________\n",
      "conv2d_29 (Conv2D)              (None, 24, 24, 64)   18496       activation_74[0][0]              \n",
      "__________________________________________________________________________________________________\n",
      "batch_normalization_74 (BatchNo (None, 24, 24, 64)   256         conv2d_29[0][0]                  \n",
      "__________________________________________________________________________________________________\n",
      "activation_75 (Activation)      (None, 24, 24, 64)   0           batch_normalization_74[0][0]     \n",
      "__________________________________________________________________________________________________\n",
      "activation_76 (Activation)      (None, 24, 24, 64)   0           activation_75[0][0]              \n",
      "__________________________________________________________________________________________________\n",
      "separable_conv2d_59 (SeparableC (None, 24, 24, 128)  8896        activation_76[0][0]              \n",
      "__________________________________________________________________________________________________\n",
      "batch_normalization_75 (BatchNo (None, 24, 24, 128)  512         separable_conv2d_59[0][0]        \n",
      "__________________________________________________________________________________________________\n",
      "activation_77 (Activation)      (None, 24, 24, 128)  0           batch_normalization_75[0][0]     \n",
      "__________________________________________________________________________________________________\n",
      "separable_conv2d_60 (SeparableC (None, 24, 24, 128)  17664       activation_77[0][0]              \n",
      "__________________________________________________________________________________________________\n",
      "batch_normalization_76 (BatchNo (None, 24, 24, 128)  512         separable_conv2d_60[0][0]        \n",
      "__________________________________________________________________________________________________\n",
      "max_pooling2d_16 (MaxPooling2D) (None, 12, 12, 128)  0           batch_normalization_76[0][0]     \n",
      "__________________________________________________________________________________________________\n",
      "conv2d_30 (Conv2D)              (None, 12, 12, 128)  8320        activation_75[0][0]              \n",
      "__________________________________________________________________________________________________\n",
      "add_21 (Add)                    (None, 12, 12, 128)  0           max_pooling2d_16[0][0]           \n",
      "                                                                 conv2d_30[0][0]                  \n",
      "__________________________________________________________________________________________________\n",
      "activation_78 (Activation)      (None, 12, 12, 128)  0           add_21[0][0]                     \n",
      "__________________________________________________________________________________________________\n",
      "separable_conv2d_61 (SeparableC (None, 12, 12, 256)  34176       activation_78[0][0]              \n",
      "__________________________________________________________________________________________________\n",
      "batch_normalization_77 (BatchNo (None, 12, 12, 256)  1024        separable_conv2d_61[0][0]        \n",
      "__________________________________________________________________________________________________\n",
      "activation_79 (Activation)      (None, 12, 12, 256)  0           batch_normalization_77[0][0]     \n",
      "__________________________________________________________________________________________________\n",
      "separable_conv2d_62 (SeparableC (None, 12, 12, 256)  68096       activation_79[0][0]              \n",
      "__________________________________________________________________________________________________\n",
      "batch_normalization_78 (BatchNo (None, 12, 12, 256)  1024        separable_conv2d_62[0][0]        \n",
      "__________________________________________________________________________________________________\n",
      "max_pooling2d_17 (MaxPooling2D) (None, 6, 6, 256)    0           batch_normalization_78[0][0]     \n",
      "__________________________________________________________________________________________________\n",
      "conv2d_31 (Conv2D)              (None, 6, 6, 256)    33024       add_21[0][0]                     \n",
      "__________________________________________________________________________________________________\n",
      "add_22 (Add)                    (None, 6, 6, 256)    0           max_pooling2d_17[0][0]           \n",
      "                                                                 conv2d_31[0][0]                  \n",
      "__________________________________________________________________________________________________\n",
      "activation_80 (Activation)      (None, 6, 6, 256)    0           add_22[0][0]                     \n",
      "__________________________________________________________________________________________________\n",
      "separable_conv2d_63 (SeparableC (None, 6, 6, 728)    189400      activation_80[0][0]              \n",
      "__________________________________________________________________________________________________\n",
      "batch_normalization_79 (BatchNo (None, 6, 6, 728)    2912        separable_conv2d_63[0][0]        \n",
      "__________________________________________________________________________________________________\n",
      "activation_81 (Activation)      (None, 6, 6, 728)    0           batch_normalization_79[0][0]     \n",
      "__________________________________________________________________________________________________\n",
      "separable_conv2d_64 (SeparableC (None, 6, 6, 728)    537264      activation_81[0][0]              \n",
      "__________________________________________________________________________________________________\n",
      "batch_normalization_80 (BatchNo (None, 6, 6, 728)    2912        separable_conv2d_64[0][0]        \n",
      "__________________________________________________________________________________________________\n",
      "max_pooling2d_18 (MaxPooling2D) (None, 3, 3, 728)    0           batch_normalization_80[0][0]     \n",
      "__________________________________________________________________________________________________\n",
      "conv2d_32 (Conv2D)              (None, 3, 3, 728)    187096      add_22[0][0]                     \n",
      "__________________________________________________________________________________________________\n",
      "add_23 (Add)                    (None, 3, 3, 728)    0           max_pooling2d_18[0][0]           \n",
      "                                                                 conv2d_32[0][0]                  \n",
      "__________________________________________________________________________________________________\n",
      "activation_82 (Activation)      (None, 3, 3, 728)    0           add_23[0][0]                     \n",
      "__________________________________________________________________________________________________\n",
      "separable_conv2d_65 (SeparableC (None, 3, 3, 728)    537264      activation_82[0][0]              \n",
      "__________________________________________________________________________________________________\n",
      "batch_normalization_81 (BatchNo (None, 3, 3, 728)    2912        separable_conv2d_65[0][0]        \n",
      "__________________________________________________________________________________________________\n",
      "activation_83 (Activation)      (None, 3, 3, 728)    0           batch_normalization_81[0][0]     \n",
      "__________________________________________________________________________________________________\n",
      "separable_conv2d_66 (SeparableC (None, 3, 3, 728)    537264      activation_83[0][0]              \n",
      "__________________________________________________________________________________________________\n",
      "batch_normalization_82 (BatchNo (None, 3, 3, 728)    2912        separable_conv2d_66[0][0]        \n",
      "__________________________________________________________________________________________________\n",
      "activation_84 (Activation)      (None, 3, 3, 728)    0           batch_normalization_82[0][0]     \n",
      "__________________________________________________________________________________________________\n",
      "separable_conv2d_67 (SeparableC (None, 3, 3, 728)    537264      activation_84[0][0]              \n",
      "__________________________________________________________________________________________________\n",
      "batch_normalization_83 (BatchNo (None, 3, 3, 728)    2912        separable_conv2d_67[0][0]        \n",
      "__________________________________________________________________________________________________\n",
      "add_24 (Add)                    (None, 3, 3, 728)    0           batch_normalization_83[0][0]     \n",
      "                                                                 add_23[0][0]                     \n",
      "__________________________________________________________________________________________________\n",
      "activation_85 (Activation)      (None, 3, 3, 728)    0           add_24[0][0]                     \n",
      "__________________________________________________________________________________________________\n",
      "separable_conv2d_68 (SeparableC (None, 3, 3, 728)    537264      activation_85[0][0]              \n",
      "__________________________________________________________________________________________________\n",
      "batch_normalization_84 (BatchNo (None, 3, 3, 728)    2912        separable_conv2d_68[0][0]        \n",
      "__________________________________________________________________________________________________\n",
      "activation_86 (Activation)      (None, 3, 3, 728)    0           batch_normalization_84[0][0]     \n",
      "__________________________________________________________________________________________________\n",
      "separable_conv2d_69 (SeparableC (None, 3, 3, 728)    537264      activation_86[0][0]              \n",
      "__________________________________________________________________________________________________\n",
      "batch_normalization_85 (BatchNo (None, 3, 3, 728)    2912        separable_conv2d_69[0][0]        \n",
      "__________________________________________________________________________________________________\n",
      "activation_87 (Activation)      (None, 3, 3, 728)    0           batch_normalization_85[0][0]     \n",
      "__________________________________________________________________________________________________\n",
      "separable_conv2d_70 (SeparableC (None, 3, 3, 728)    537264      activation_87[0][0]              \n",
      "__________________________________________________________________________________________________\n",
      "batch_normalization_86 (BatchNo (None, 3, 3, 728)    2912        separable_conv2d_70[0][0]        \n",
      "__________________________________________________________________________________________________\n",
      "add_25 (Add)                    (None, 3, 3, 728)    0           batch_normalization_86[0][0]     \n",
      "                                                                 add_24[0][0]                     \n",
      "__________________________________________________________________________________________________\n",
      "activation_88 (Activation)      (None, 3, 3, 728)    0           add_25[0][0]                     \n",
      "__________________________________________________________________________________________________\n",
      "separable_conv2d_71 (SeparableC (None, 3, 3, 728)    537264      activation_88[0][0]              \n",
      "__________________________________________________________________________________________________\n",
      "batch_normalization_87 (BatchNo (None, 3, 3, 728)    2912        separable_conv2d_71[0][0]        \n",
      "__________________________________________________________________________________________________\n",
      "activation_89 (Activation)      (None, 3, 3, 728)    0           batch_normalization_87[0][0]     \n",
      "__________________________________________________________________________________________________\n",
      "separable_conv2d_72 (SeparableC (None, 3, 3, 728)    537264      activation_89[0][0]              \n",
      "__________________________________________________________________________________________________\n",
      "batch_normalization_88 (BatchNo (None, 3, 3, 728)    2912        separable_conv2d_72[0][0]        \n",
      "__________________________________________________________________________________________________\n",
      "activation_90 (Activation)      (None, 3, 3, 728)    0           batch_normalization_88[0][0]     \n",
      "__________________________________________________________________________________________________\n",
      "separable_conv2d_73 (SeparableC (None, 3, 3, 728)    537264      activation_90[0][0]              \n",
      "__________________________________________________________________________________________________\n",
      "batch_normalization_89 (BatchNo (None, 3, 3, 728)    2912        separable_conv2d_73[0][0]        \n",
      "__________________________________________________________________________________________________\n",
      "add_26 (Add)                    (None, 3, 3, 728)    0           batch_normalization_89[0][0]     \n",
      "                                                                 add_25[0][0]                     \n",
      "__________________________________________________________________________________________________\n",
      "activation_91 (Activation)      (None, 3, 3, 728)    0           add_26[0][0]                     \n",
      "__________________________________________________________________________________________________\n",
      "separable_conv2d_74 (SeparableC (None, 3, 3, 728)    537264      activation_91[0][0]              \n",
      "__________________________________________________________________________________________________\n",
      "batch_normalization_90 (BatchNo (None, 3, 3, 728)    2912        separable_conv2d_74[0][0]        \n",
      "__________________________________________________________________________________________________\n",
      "activation_92 (Activation)      (None, 3, 3, 728)    0           batch_normalization_90[0][0]     \n",
      "__________________________________________________________________________________________________\n",
      "separable_conv2d_75 (SeparableC (None, 3, 3, 728)    537264      activation_92[0][0]              \n",
      "__________________________________________________________________________________________________\n",
      "batch_normalization_91 (BatchNo (None, 3, 3, 728)    2912        separable_conv2d_75[0][0]        \n",
      "__________________________________________________________________________________________________\n",
      "activation_93 (Activation)      (None, 3, 3, 728)    0           batch_normalization_91[0][0]     \n",
      "__________________________________________________________________________________________________\n",
      "separable_conv2d_76 (SeparableC (None, 3, 3, 728)    537264      activation_93[0][0]              \n",
      "__________________________________________________________________________________________________\n",
      "batch_normalization_92 (BatchNo (None, 3, 3, 728)    2912        separable_conv2d_76[0][0]        \n",
      "__________________________________________________________________________________________________\n",
      "add_27 (Add)                    (None, 3, 3, 728)    0           batch_normalization_92[0][0]     \n",
      "                                                                 add_26[0][0]                     \n",
      "__________________________________________________________________________________________________\n",
      "activation_94 (Activation)      (None, 3, 3, 728)    0           add_27[0][0]                     \n",
      "__________________________________________________________________________________________________\n",
      "separable_conv2d_77 (SeparableC (None, 3, 3, 728)    537264      activation_94[0][0]              \n",
      "__________________________________________________________________________________________________\n",
      "batch_normalization_93 (BatchNo (None, 3, 3, 728)    2912        separable_conv2d_77[0][0]        \n",
      "__________________________________________________________________________________________________\n",
      "activation_95 (Activation)      (None, 3, 3, 728)    0           batch_normalization_93[0][0]     \n",
      "__________________________________________________________________________________________________\n",
      "separable_conv2d_78 (SeparableC (None, 3, 3, 728)    537264      activation_95[0][0]              \n",
      "__________________________________________________________________________________________________\n",
      "batch_normalization_94 (BatchNo (None, 3, 3, 728)    2912        separable_conv2d_78[0][0]        \n",
      "__________________________________________________________________________________________________\n",
      "activation_96 (Activation)      (None, 3, 3, 728)    0           batch_normalization_94[0][0]     \n",
      "__________________________________________________________________________________________________\n",
      "separable_conv2d_79 (SeparableC (None, 3, 3, 728)    537264      activation_96[0][0]              \n",
      "__________________________________________________________________________________________________\n",
      "batch_normalization_95 (BatchNo (None, 3, 3, 728)    2912        separable_conv2d_79[0][0]        \n",
      "__________________________________________________________________________________________________\n",
      "add_28 (Add)                    (None, 3, 3, 728)    0           batch_normalization_95[0][0]     \n",
      "                                                                 add_27[0][0]                     \n",
      "__________________________________________________________________________________________________\n",
      "activation_97 (Activation)      (None, 3, 3, 728)    0           add_28[0][0]                     \n",
      "__________________________________________________________________________________________________\n",
      "separable_conv2d_80 (SeparableC (None, 3, 3, 728)    537264      activation_97[0][0]              \n",
      "__________________________________________________________________________________________________\n",
      "batch_normalization_96 (BatchNo (None, 3, 3, 728)    2912        separable_conv2d_80[0][0]        \n",
      "__________________________________________________________________________________________________\n",
      "activation_98 (Activation)      (None, 3, 3, 728)    0           batch_normalization_96[0][0]     \n",
      "__________________________________________________________________________________________________\n",
      "separable_conv2d_81 (SeparableC (None, 3, 3, 728)    537264      activation_98[0][0]              \n",
      "__________________________________________________________________________________________________\n",
      "batch_normalization_97 (BatchNo (None, 3, 3, 728)    2912        separable_conv2d_81[0][0]        \n",
      "__________________________________________________________________________________________________\n",
      "activation_99 (Activation)      (None, 3, 3, 728)    0           batch_normalization_97[0][0]     \n",
      "__________________________________________________________________________________________________\n",
      "separable_conv2d_82 (SeparableC (None, 3, 3, 728)    537264      activation_99[0][0]              \n",
      "__________________________________________________________________________________________________\n",
      "batch_normalization_98 (BatchNo (None, 3, 3, 728)    2912        separable_conv2d_82[0][0]        \n",
      "__________________________________________________________________________________________________\n",
      "add_29 (Add)                    (None, 3, 3, 728)    0           batch_normalization_98[0][0]     \n",
      "                                                                 add_28[0][0]                     \n",
      "__________________________________________________________________________________________________\n",
      "activation_100 (Activation)     (None, 3, 3, 728)    0           add_29[0][0]                     \n",
      "__________________________________________________________________________________________________\n",
      "separable_conv2d_83 (SeparableC (None, 3, 3, 728)    537264      activation_100[0][0]             \n",
      "__________________________________________________________________________________________________\n",
      "batch_normalization_99 (BatchNo (None, 3, 3, 728)    2912        separable_conv2d_83[0][0]        \n",
      "__________________________________________________________________________________________________\n",
      "activation_101 (Activation)     (None, 3, 3, 728)    0           batch_normalization_99[0][0]     \n",
      "__________________________________________________________________________________________________\n",
      "separable_conv2d_84 (SeparableC (None, 3, 3, 728)    537264      activation_101[0][0]             \n",
      "__________________________________________________________________________________________________\n",
      "batch_normalization_100 (BatchN (None, 3, 3, 728)    2912        separable_conv2d_84[0][0]        \n",
      "__________________________________________________________________________________________________\n",
      "activation_102 (Activation)     (None, 3, 3, 728)    0           batch_normalization_100[0][0]    \n",
      "__________________________________________________________________________________________________\n",
      "separable_conv2d_85 (SeparableC (None, 3, 3, 728)    537264      activation_102[0][0]             \n",
      "__________________________________________________________________________________________________\n",
      "batch_normalization_101 (BatchN (None, 3, 3, 728)    2912        separable_conv2d_85[0][0]        \n",
      "__________________________________________________________________________________________________\n",
      "add_30 (Add)                    (None, 3, 3, 728)    0           batch_normalization_101[0][0]    \n",
      "                                                                 add_29[0][0]                     \n",
      "__________________________________________________________________________________________________\n",
      "activation_103 (Activation)     (None, 3, 3, 728)    0           add_30[0][0]                     \n",
      "__________________________________________________________________________________________________\n",
      "separable_conv2d_86 (SeparableC (None, 3, 3, 728)    537264      activation_103[0][0]             \n",
      "__________________________________________________________________________________________________\n",
      "batch_normalization_102 (BatchN (None, 3, 3, 728)    2912        separable_conv2d_86[0][0]        \n",
      "__________________________________________________________________________________________________\n",
      "activation_104 (Activation)     (None, 3, 3, 728)    0           batch_normalization_102[0][0]    \n",
      "__________________________________________________________________________________________________\n",
      "separable_conv2d_87 (SeparableC (None, 3, 3, 728)    537264      activation_104[0][0]             \n",
      "__________________________________________________________________________________________________\n",
      "batch_normalization_103 (BatchN (None, 3, 3, 728)    2912        separable_conv2d_87[0][0]        \n",
      "__________________________________________________________________________________________________\n",
      "activation_105 (Activation)     (None, 3, 3, 728)    0           batch_normalization_103[0][0]    \n",
      "__________________________________________________________________________________________________\n",
      "separable_conv2d_88 (SeparableC (None, 3, 3, 728)    537264      activation_105[0][0]             \n",
      "__________________________________________________________________________________________________\n",
      "batch_normalization_104 (BatchN (None, 3, 3, 728)    2912        separable_conv2d_88[0][0]        \n",
      "__________________________________________________________________________________________________\n",
      "add_31 (Add)                    (None, 3, 3, 728)    0           batch_normalization_104[0][0]    \n",
      "                                                                 add_30[0][0]                     \n",
      "__________________________________________________________________________________________________\n",
      "activation_106 (Activation)     (None, 3, 3, 728)    0           add_31[0][0]                     \n",
      "__________________________________________________________________________________________________\n",
      "separable_conv2d_89 (SeparableC (None, 3, 3, 728)    537264      activation_106[0][0]             \n",
      "__________________________________________________________________________________________________\n",
      "batch_normalization_105 (BatchN (None, 3, 3, 728)    2912        separable_conv2d_89[0][0]        \n",
      "__________________________________________________________________________________________________\n",
      "activation_107 (Activation)     (None, 3, 3, 728)    0           batch_normalization_105[0][0]    \n",
      "__________________________________________________________________________________________________\n",
      "separable_conv2d_90 (SeparableC (None, 3, 3, 1024)   753048      activation_107[0][0]             \n",
      "__________________________________________________________________________________________________\n",
      "batch_normalization_106 (BatchN (None, 3, 3, 1024)   4096        separable_conv2d_90[0][0]        \n",
      "__________________________________________________________________________________________________\n",
      "max_pooling2d_19 (MaxPooling2D) (None, 2, 2, 1024)   0           batch_normalization_106[0][0]    \n",
      "__________________________________________________________________________________________________\n",
      "conv2d_33 (Conv2D)              (None, 2, 2, 1024)   746496      add_31[0][0]                     \n",
      "__________________________________________________________________________________________________\n",
      "add_32 (Add)                    (None, 2, 2, 1024)   0           max_pooling2d_19[0][0]           \n",
      "                                                                 conv2d_33[0][0]                  \n",
      "__________________________________________________________________________________________________\n",
      "activation_108 (Activation)     (None, 2, 2, 1024)   0           add_32[0][0]                     \n",
      "__________________________________________________________________________________________________\n",
      "separable_conv2d_91 (SeparableC (None, 2, 2, 728)    755416      activation_108[0][0]             \n",
      "__________________________________________________________________________________________________\n",
      "batch_normalization_107 (BatchN (None, 2, 2, 728)    2912        separable_conv2d_91[0][0]        \n",
      "__________________________________________________________________________________________________\n",
      "activation_109 (Activation)     (None, 2, 2, 728)    0           batch_normalization_107[0][0]    \n",
      "__________________________________________________________________________________________________\n",
      "separable_conv2d_92 (SeparableC (None, 2, 2, 1024)   753048      activation_109[0][0]             \n",
      "__________________________________________________________________________________________________\n",
      "batch_normalization_108 (BatchN (None, 2, 2, 1024)   4096        separable_conv2d_92[0][0]        \n",
      "__________________________________________________________________________________________________\n",
      "global_average_pooling2d_1 (Glo (None, 1024)         0           batch_normalization_108[0][0]    \n",
      "__________________________________________________________________________________________________\n",
      "dense_1 (Dense)                 (None, 7)            7175        global_average_pooling2d_1[0][0] \n",
      "==================================================================================================\n",
      "Total params: 17,642,719\n",
      "Trainable params: 17,596,127\n",
      "Non-trainable params: 46,592\n",
      "__________________________________________________________________________________________________\n"
     ]
    }
   ],
   "source": [
    "xception.summary()"
   ]
  },
  {
   "cell_type": "code",
   "execution_count": 76,
   "metadata": {
    "ExecuteTime": {
     "end_time": "2019-03-05T13:35:23.936135Z",
     "start_time": "2019-03-05T13:35:23.864143Z"
    }
   },
   "outputs": [],
   "source": [
    "xception.compile(optimizer='adam', loss='categorical_crossentropy', metrics=['accuracy'])\n",
    " \n",
    "batch_size = 128\n",
    "epochs = 150"
   ]
  },
  {
   "cell_type": "code",
   "execution_count": null,
   "metadata": {
    "ExecuteTime": {
     "start_time": "2019-03-05T13:35:43.320Z"
    }
   },
   "outputs": [
    {
     "name": "stdout",
     "output_type": "stream",
     "text": [
      "Epoch 1/150\n",
      "225/225 [==============================] - 2132s 9s/step - loss: 1.7515 - acc: 0.2968 - val_loss: 2.3387 - val_acc: 0.2644\n",
      "Epoch 2/150\n",
      " 49/225 [=====>........................] - ETA: 25:20 - loss: 1.5588 - acc: 0.3881"
     ]
    }
   ],
   "source": [
    "datagen = ImageDataGenerator(\n",
    "        zoom_range=0.2,          # randomly zoom into images\n",
    "        rotation_range=10,       # randomly rotate images in the range (degrees, 0 to 180)\n",
    "        width_shift_range=0.1,   # randomly shift images horizontally (fraction of total width)\n",
    "        height_shift_range=0.1,  # randomly shift images vertically (fraction of total height)\n",
    "        horizontal_flip=True,    # randomly flip images\n",
    "        vertical_flip=False)     # randomly flip images\n",
    "\n",
    "history = xception.fit_generator(\n",
    "    datagen.flow(X_train, y_train, batch_size=batch_size),\n",
    "    steps_per_epoch=int(np.ceil(X_train.shape[0] / float(batch_size))),\n",
    "    epochs = epochs, \n",
    "    validation_data=(X_test, y_test)\n",
    ")"
   ]
  },
  {
   "cell_type": "markdown",
   "metadata": {},
   "source": [
    "# V. Evaluate the model"
   ]
  },
  {
   "cell_type": "code",
   "execution_count": 334,
   "metadata": {
    "ExecuteTime": {
     "end_time": "2019-02-20T06:54:44.637469Z",
     "start_time": "2019-02-20T06:54:43.957235Z"
    }
   },
   "outputs": [
    {
     "data": {
      "text/plain": [
       "Text(0.5, 1.0, 'Accuracy Curves')"
      ]
     },
     "execution_count": 334,
     "metadata": {},
     "output_type": "execute_result"
    },
    {
     "data": {
      "image/png": "[encoded data removed]",
      "text/plain": [
       "<Figure size 576x432 with 1 Axes>"
      ]
     },
     "metadata": {},
     "output_type": "display_data"
    },
    {
     "data": {
      "image/png": "[encoded data removed]",
      "text/plain": [
       "<Figure size 576x432 with 1 Axes>"
      ]
     },
     "metadata": {},
     "output_type": "display_data"
    }
   ],
   "source": [
    "#Plotting accuracy and loss curves for 2nd model\n",
    "\n",
    "# Loss Curves\n",
    "plt.figure(figsize=[8,6])\n",
    "plt.plot(history.history['loss'],'r',linewidth=2.0)\n",
    "plt.plot(history.history['val_loss'],'b',linewidth=2.0)\n",
    "plt.legend(['Training loss', 'Validation Loss'],fontsize=18)\n",
    "plt.xlabel('Epochs ',fontsize=16)\n",
    "plt.ylabel('Loss',fontsize=16)\n",
    "plt.title('Loss Curves',fontsize=16)\n",
    " \n",
    "# Accuracy Curves\n",
    "plt.figure(figsize=[8,6])\n",
    "plt.plot(history.history['acc'],'r',linewidth=2.0)\n",
    "plt.plot(history.history['val_acc'],'b',linewidth=2.0)\n",
    "plt.legend(['Training Accuracy', 'Validation Accuracy'],fontsize=18)\n",
    "plt.xlabel('Epochs ',fontsize=16)\n",
    "plt.ylabel('Accuracy',fontsize=16)\n",
    "plt.title('Accuracy Curves',fontsize=16)"
   ]
  },
  {
   "cell_type": "markdown",
   "metadata": {},
   "source": [
    "# VI. Save the model"
   ]
  },
  {
   "cell_type": "code",
   "execution_count": 332,
   "metadata": {
    "ExecuteTime": {
     "end_time": "2019-02-20T06:54:08.363906Z",
     "start_time": "2019-02-20T06:54:01.210003Z"
    }
   },
   "outputs": [
    {
     "data": {
      "text/plain": [
       "17443"
      ]
     },
     "execution_count": 332,
     "metadata": {},
     "output_type": "execute_result"
    }
   ],
   "source": [
    "#save the model weights\n",
    "json_string = model.to_json()\n",
    "model.save_weights(local_path + 'savedmodels/model_xception.h5')\n",
    "open(local_path + 'savedmodels/model_xception.json', 'w').write(json_string)\n",
    "#model.save_weights(local_path + 'savedmodels/Emotion_Face_Detection_Model.h5')"
   ]
  },
  {
   "cell_type": "markdown",
   "metadata": {},
   "source": [
    "# VII. Sources"
   ]
  },
  {
   "cell_type": "markdown",
   "metadata": {},
   "source": [
    "- Visualization : https://github.com/JostineHo/mememoji/blob/master/data_visualization.ipynb\n",
    "- State of the art Architecture : https://github.com/amineHorseman/facial-expression-recognition-using-cnn\n",
    "- Eyes Tracking : https://www.pyimagesearch.com/2017/04/24/eye-blink-detection-opencv-python-dlib/\n",
    "- Face Alignment : https://www.pyimagesearch.com/2017/05/22/face-alignment-with-opencv-and-python/\n",
    "- C.Pramerdorfer,  and  M.Kampel.Facial  Expression  Recognition  using  Con-volutional  Neural  Networks:  State  of  the  Art.  Computer  Vision  Lab,  TU  Wien. https://arxiv.org/pdf/1612.02903.pdf\n",
    "- A Brief Review of Facial Emotion Recognition Based\n",
    "on Visual Information : https://www.mdpi.com/1424-8220/18/2/401/pdf\n",
    "- Going deeper in facial expression recognition using deep neural networks : https://ieeexplore.ieee.org/document/7477450"
   ]
  }
 ],
 "metadata": {
  "kernelspec": {
   "display_name": "Python 3 (ipykernel)",
   "language": "python",
   "name": "python3"
  },
  "language_info": {
   "codemirror_mode": {
    "name": "ipython",
    "version": 3
   },
   "file_extension": ".py",
   "mimetype": "text/x-python",
   "name": "python",
   "nbconvert_exporter": "python",
   "pygments_lexer": "ipython3",
   "version": "3.9.7"
  },
  "latex_envs": {
   "LaTeX_envs_menu_present": true,
   "autoclose": false,
   "autocomplete": true,
   "bibliofile": "biblio.bib",
   "cite_by": "apalike",
   "current_citInitial": 1,
   "eqLabelWithNumbers": true,
   "eqNumInitial": 1,
   "hotkeys": {
    "equation": "Ctrl-E",
    "itemize": "Ctrl-I"
   },
   "labels_anchors": false,
   "latex_user_defs": false,
   "report_style_numbering": false,
   "user_envs_cfg": false
  },
  "toc": {
   "base_numbering": 1,
   "nav_menu": {},
   "number_sections": true,
   "sideBar": true,
   "skip_h1_title": false,
   "title_cell": "Table of Contents",
   "title_sidebar": "Contents",
   "toc_cell": false,
   "toc_position": {},
   "toc_section_display": true,
   "toc_window_display": false
  }
 },
 "nbformat": 4,
 "nbformat_minor": 2
}
